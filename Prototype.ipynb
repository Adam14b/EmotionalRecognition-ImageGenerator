{
 "cells": [
  {
   "cell_type": "markdown",
   "metadata": {},
   "source": [
    "# Прототипирование тестового задания на тему \"Компьютерное Зрение\"      \n",
    " ## Выполнил: Адаменко Даниил Дмитриевич\n",
    "## [ссылка на GitHub](https://github.com/Adam14b/EmotionalRecognition-ImageGenerator)"
   ]
  },
  {
   "cell_type": "markdown",
   "metadata": {},
   "source": [
    "# Создание и обучение модели \"МКЭ\""
   ]
  },
  {
   "cell_type": "code",
   "execution_count": 2,
   "metadata": {},
   "outputs": [],
   "source": [
    "import os\n",
    "import numpy as np\n",
    "import tensorflow as tf\n",
    "from tensorflow.keras.models import Sequential\n",
    "from tensorflow.keras.layers import Conv2D, MaxPooling2D, Flatten, Dense, Dropout\n",
    "from tensorflow.keras.preprocessing.image import ImageDataGenerator"
   ]
  },
  {
   "cell_type": "markdown",
   "metadata": {},
   "source": [
    "## работа с данными:\n",
    "- [ссылка на данные](https://www.kaggle.com/datasets/msambare/fer2013)"
   ]
  },
  {
   "cell_type": "code",
   "execution_count": 4,
   "metadata": {},
   "outputs": [],
   "source": [
    "# Параметры\n",
    "img_width, img_height = 48, 48\n",
    "batch_size = 64"
   ]
  },
  {
   "cell_type": "code",
   "execution_count": null,
   "metadata": {},
   "outputs": [],
   "source": [
    "# Пути к данным\n",
    "train_data_dir = r\"C:\\Users\\Adam\\Test_Task\\data\\test\"\n",
    "test_data_dir = r\"C:\\Users\\Adam\\Test_Task\\data\\train\""
   ]
  },
  {
   "cell_type": "code",
   "execution_count": null,
   "metadata": {},
   "outputs": [],
   "source": [
    "# Создание генераторов данных\n",
    "train_datagen = ImageDataGenerator(\n",
    "    rescale=1.0/255.0,\n",
    "    rotation_range=10,\n",
    "    zoom_range=0.1,\n",
    "    horizontal_flip=True\n",
    ")\n",
    "\n",
    "test_datagen = ImageDataGenerator(rescale=1.0/255.0)\n",
    "\n",
    "train_generator = train_datagen.flow_from_directory(\n",
    "    train_data_dir,\n",
    "    target_size=(img_width, img_height),\n",
    "    color_mode='grayscale',\n",
    "    batch_size=batch_size,\n",
    "    class_mode='categorical'\n",
    ")\n",
    "\n",
    "test_generator = test_datagen.flow_from_directory(\n",
    "    test_data_dir,\n",
    "    target_size=(img_width, img_height),\n",
    "    color_mode='grayscale',\n",
    "    batch_size=batch_size,\n",
    "    class_mode='categorical'\n",
    ")"
   ]
  },
  {
   "cell_type": "markdown",
   "metadata": {},
   "source": [
    "## Создание модели:"
   ]
  },
  {
   "cell_type": "code",
   "execution_count": 5,
   "metadata": {
    "scrolled": false
   },
   "outputs": [
    {
     "name": "stderr",
     "output_type": "stream",
     "text": [
      "/opt/homebrew/lib/python3.11/site-packages/keras/src/layers/convolutional/base_conv.py:107: UserWarning: Do not pass an `input_shape`/`input_dim` argument to a layer. When using Sequential models, prefer using an `Input(shape)` object as the first layer in the model instead.\n",
      "  super().__init__(activity_regularizer=activity_regularizer, **kwargs)\n"
     ]
    }
   ],
   "source": [
    "# Создание сверточной модели\n",
    "model = Sequential([\n",
    "    Conv2D(32, (3, 3), activation='relu', input_shape=(img_width, img_height, 1)),\n",
    "    MaxPooling2D(pool_size=(2, 2)),\n",
    "    Conv2D(64, (3, 3), activation='relu'),\n",
    "    MaxPooling2D(pool_size=(2, 2)),\n",
    "    Conv2D(128, (3, 3), activation='relu'),\n",
    "    MaxPooling2D(pool_size=(2, 2)),\n",
    "    Flatten(),\n",
    "    Dense(512, activation='relu'),\n",
    "    Dropout(0.5),\n",
    "    Dense(3, activation='softmax')  # Три категории эмоций\n",
    "])"
   ]
  },
  {
   "cell_type": "code",
   "execution_count": null,
   "metadata": {},
   "outputs": [],
   "source": [
    "# Компиляция модели\n",
    "model.compile(optimizer='adam', loss='categorical_crossentropy', metrics=['accuracy'])"
   ]
  },
  {
   "cell_type": "markdown",
   "metadata": {},
   "source": [
    "## Обучение и сохранение модели"
   ]
  },
  {
   "cell_type": "code",
   "execution_count": null,
   "metadata": {},
   "outputs": [],
   "source": [
    "# обучение модели\n",
    "history = model.fit(\n",
    "    train_generator,\n",
    "    validation_data=test_generator,\n",
    "    steps_per_epoch=train_generator.samples // batch_size,\n",
    "    validation_steps=test_generator.samples // batch_size,\n",
    "    epochs=200\n",
    ")"
   ]
  },
  {
   "cell_type": "code",
   "execution_count": 5,
   "metadata": {},
   "outputs": [],
   "source": [
    "# сохранение модели\n",
    "model.save(r'C:\\Users\\Adam\\Test_Task\\data\\model.keras')"
   ]
  },
  {
   "cell_type": "markdown",
   "metadata": {},
   "source": [
    "# Применение модели:"
   ]
  },
  {
   "cell_type": "code",
   "execution_count": null,
   "metadata": {},
   "outputs": [],
   "source": [
    "import cv2\n",
    "import numpy as np\n",
    "import tensorflow as tf\n",
    "import pandas as pd"
   ]
  },
  {
   "cell_type": "code",
   "execution_count": null,
   "metadata": {},
   "outputs": [],
   "source": [
    "# Загрузка обученной модели\n",
    "try:\n",
    "    model = tf.keras.models.load_model('/Users/daniiladamenko/Downloads/model.keras')\n",
    "    print(\"Модель успешно загружена.\")\n",
    "except Exception as e:\n",
    "    print(f\"Ошибка при загрузке модели: {e}\")"
   ]
  },
  {
   "cell_type": "code",
   "execution_count": null,
   "metadata": {},
   "outputs": [],
   "source": [
    "# Захват видео\n",
    "cap = cv2.VideoCapture(1)  # 0 для первой камеры ######################################\n",
    "if not cap.isOpened():\n",
    "    print(\"Не удалось получить доступ к камере.\")\n",
    "    exit()"
   ]
  },
  {
   "cell_type": "code",
   "execution_count": null,
   "metadata": {},
   "outputs": [],
   "source": [
    "emotion_labels = {0: 'Negative', 2: 'Positive', 1: 'Neutral'}  # \"лейблы классов\""
   ]
  },
  {
   "cell_type": "code",
   "execution_count": null,
   "metadata": {},
   "outputs": [],
   "source": [
    "# запуск модели\n",
    "NegativeAmount = 0\n",
    "PositiveAmount = 0\n",
    "NeutralAmount = 0\n",
    "while True:\n",
    "    ret, frame = cap.read()\n",
    "    if not ret:\n",
    "        print(\"Не удалось получить кадр.\")\n",
    "        break\n",
    "    \n",
    "    # Предварительная обработка кадра\n",
    "    gray = cv2.cvtColor(frame, cv2.COLOR_BGR2GRAY)\n",
    "    face_cascade = cv2.CascadeClassifier(cv2.data.haarcascades + 'haarcascade_frontalface_default.xml')\n",
    "    faces = face_cascade.detectMultiScale(gray, 1.3, 5)\n",
    "    for (x, y, w, h) in faces:\n",
    "        face = gray[y:y+h, x:x+w]\n",
    "        face = cv2.resize(face, (48, 48))\n",
    "        face = face / 255.0\n",
    "        face = np.expand_dims(face, axis=0)\n",
    "        face = np.expand_dims(face, axis=-1)\n",
    "        \n",
    "        # Предсказание эмоции\n",
    "        try:\n",
    "            prediction = model.predict(face, verbose= 0)\n",
    "            emotion = np.argmax(prediction)\n",
    "            label = emotion_labels[emotion]\n",
    "        except Exception as e:\n",
    "            print(f\"Ошибка при предсказании: {e}\")\n",
    "            continue\n",
    "        #инкрементирование переменных, отвечающих за количество эмоций\n",
    "        if (label == 'Negative'): NegativeAmount += 1 \n",
    "        if (label == 'Positive'): PositiveAmount += 1 \n",
    "        if (label == 'Neutral'): NeutralAmount += 1 \n",
    "        cv2.putText(frame,f'удовлетворенность :{round(((0.5*NeutralAmount + PositiveAmount)/(0.5*NeutralAmount + PositiveAmount + NegativeAmount) * 100))}%', (10,60), cv2.FONT_HERSHEY_COMPLEX, 0.9,(255, 255, 0), 2)\n",
    "        color = (0, 255, 0) if label == 'Positive' else (0, 0, 255) if label == 'Negative' else (255, 255, 0)\n",
    "        cv2.rectangle(frame, (x, y), (x+w, y+h), color, 2)\n",
    "        cv2.putText(frame, label, (x, y-10), cv2.FONT_HERSHEY_SIMPLEX, 0.9, color, 2)\n",
    "    # Показ видео\n",
    "    cv2.imshow('Video', frame)\n",
    "    # остановка в случае нажатия на \"Q\"\n",
    "    if cv2.waitKey(1) & 0xFF in [ord('q') ]: #можно добавить или изменить клавиши закрытия программы\n",
    "        break\n",
    "#вывод таблицы итогов\n",
    "output = pd.DataFrame.from_dict({'Общая удовлетворенность':[f'{round(((0.5*NeutralAmount + PositiveAmount)/(0.5*NeutralAmount + PositiveAmount + NegativeAmount) * 100))} %'],\n",
    "    'Негативные эмоции' :[f'{((100 - ((NeutralAmount + PositiveAmount)/(NeutralAmount + PositiveAmount + NegativeAmount) * 100)))} %'],\n",
    "    'Нейтральне эмоции': [f'{round(((NeutralAmount)/(NeutralAmount + PositiveAmount + NegativeAmount) * 100),4)} %'],\n",
    "    'Положительные эмоции': [f'{round((PositiveAmount/(NeutralAmount+PositiveAmount+NegativeAmount)*100),4)} %']\n",
    "    }).T\n",
    "output.columns = ['Результаты звонка:']\n",
    "# вывод, очистка памяти, выход\n",
    "display(output)\n",
    "cap.release()\n",
    "cv2.destroyAllWindows()"
   ]
  }
 ],
 "metadata": {
  "kernelspec": {
   "display_name": "Python 3 (ipykernel)",
   "language": "python",
   "name": "python3"
  },
  "language_info": {
   "codemirror_mode": {
    "name": "ipython",
    "version": 3
   },
   "file_extension": ".py",
   "mimetype": "text/x-python",
   "name": "python",
   "nbconvert_exporter": "python",
   "pygments_lexer": "ipython3",
   "version": "3.11.4"
  }
 },
 "nbformat": 4,
 "nbformat_minor": 2
}
